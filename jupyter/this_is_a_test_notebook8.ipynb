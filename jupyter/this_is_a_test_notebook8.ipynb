{
 "cells": [
  {
   "cell_type": "markdown",
   "metadata": {},
   "source": [
    "# This Is The Ninth Test Notebook"
   ]
  },
  {
   "cell_type": "code",
   "execution_count": 1,
   "metadata": {},
   "outputs": [],
   "source": [
    "from datetime import datetime, date\n",
    "\n",
    "def script_metadata(categories, create_date,\n",
    "                    last_modified, last_ran,\n",
    "                    stakeholders, status):\n",
    "    print(f'''\n",
    "Categories: {', '.join(categories)}\n",
    "Script Created: {create_date.strftime(\"%b %d, %Y\")}\n",
    "Script Last Modified: {last_modified.strftime(\"%b %d, %Y\")}\n",
    "Script Last Ran: {last_ran.strftime(\"%b %d, %Y %H:%M:%S\")}\n",
    "Stakeholders: {', '.join(stakeholders)}\n",
    "Status: {status}\n",
    "''')\n"
   ]
  },
  {
   "cell_type": "code",
   "execution_count": 2,
   "metadata": {},
   "outputs": [
    {
     "name": "stdout",
     "output_type": "stream",
     "text": [
      "\n",
      "Categories: Analytics, Project1, Data Science, Reporting\n",
      "Script Created: Sep 28, 2019\n",
      "Script Last Modified: Dec 21, 2019\n",
      "Script Last Ran: Dec 21, 2019 12:50:41\n",
      "Stakeholders: nisard,  byrnes,  marton\n",
      "Status: IN_PROGRESS\n",
      "\n"
     ]
    }
   ],
   "source": [
    "metadata_dict = {\n",
    "    'categories': ('Analytics', 'Project1', 'Data Science', 'Reporting', ),\n",
    "    'create_date': date(2019,9,28),\n",
    "    'last_modified': date(2019,12,21),\n",
    "    'last_ran': datetime(year=2019,month=12,day=21,hour=12,minute=50,second=41),\n",
    "    'stakeholders': ('nisard',' byrnes',' marton', ),\n",
    "    'status': 'IN_PROGRESS'}\n",
    "\n",
    "script_metadata(**metadata_dict)"
   ]
  },
  {
   "cell_type": "code",
   "execution_count": 3,
   "metadata": {},
   "outputs": [],
   "source": [
    "x = 1"
   ]
  },
  {
   "cell_type": "code",
   "execution_count": 4,
   "metadata": {},
   "outputs": [
    {
     "name": "stdout",
     "output_type": "stream",
     "text": [
      "The value of x is 1.\n"
     ]
    }
   ],
   "source": [
    "print(f'The value of x is {x}.')"
   ]
  },
  {
   "cell_type": "markdown",
   "metadata": {},
   "source": [
    "I can put markdown here."
   ]
  },
  {
   "cell_type": "code",
   "execution_count": 5,
   "metadata": {},
   "outputs": [],
   "source": [
    "x = x + 1"
   ]
  },
  {
   "cell_type": "code",
   "execution_count": 6,
   "metadata": {},
   "outputs": [],
   "source": [
    "y = x*7"
   ]
  },
  {
   "cell_type": "code",
   "execution_count": 7,
   "metadata": {},
   "outputs": [],
   "source": [
    "z = range(30)\n",
    "s = [i*2 for i in z]"
   ]
  },
  {
   "cell_type": "markdown",
   "metadata": {},
   "source": [
    "Here is a long list of numbers:"
   ]
  },
  {
   "cell_type": "code",
   "execution_count": 8,
   "metadata": {},
   "outputs": [
    {
     "name": "stdout",
     "output_type": "stream",
     "text": [
      "[0,\n",
      " 2,\n",
      " 4,\n",
      " 6,\n",
      " 8,\n",
      " 10,\n",
      " 12,\n",
      " 14,\n",
      " 16,\n",
      " 18,\n",
      " 20,\n",
      " 22,\n",
      " 24,\n",
      " 26,\n",
      " 28,\n",
      " 30,\n",
      " 32,\n",
      " 34,\n",
      " 36,\n",
      " 38,\n",
      " 40,\n",
      " 42,\n",
      " 44,\n",
      " 46,\n",
      " 48,\n",
      " 50,\n",
      " 52,\n",
      " 54,\n",
      " 56,\n",
      " 58]\n"
     ]
    }
   ],
   "source": [
    "from pprint import pprint as pp\n",
    "pp(s)"
   ]
  },
  {
   "cell_type": "code",
   "execution_count": null,
   "metadata": {},
   "outputs": [],
   "source": []
  },
  {
   "cell_type": "code",
   "execution_count": null,
   "metadata": {},
   "outputs": [],
   "source": []
  }
 ],
 "metadata": {
  "kernelspec": {
   "display_name": "fraud_env",
   "language": "python",
   "name": "fraud_env"
  },
  "language_info": {
   "codemirror_mode": {
    "name": "ipython",
    "version": 3
   },
   "file_extension": ".py",
   "mimetype": "text/x-python",
   "name": "python",
   "nbconvert_exporter": "python",
   "pygments_lexer": "ipython3",
   "version": "3.7.1"
  },
  "pycharm": {
   "stem_cell": {
    "cell_type": "raw",
    "metadata": {
     "collapsed": false
    },
    "source": []
   }
  }
 },
 "nbformat": 4,
 "nbformat_minor": 4
}
